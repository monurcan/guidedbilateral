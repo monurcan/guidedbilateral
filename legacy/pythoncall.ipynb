{
 "cells": [
  {
   "cell_type": "code",
   "execution_count": 2,
   "id": "b79f3b3f",
   "metadata": {},
   "outputs": [],
   "source": [
    "#python call için libfun.so gibi library derleyip buradan çağıracaktım ama gereksiz uzardı\n",
    "\n",
    "import cv2\n",
    "import numpy as np\n",
    "import ctypes\n",
    "\n",
    "#int GuidedBilateralFilter(int dimx, int dimy, int ncol, unsigned char *orig, unsigned char *guide, int demisize, float sscale, float iscale, float ipower, float gscale, float gpower, unsigned char *result)\n",
    "fun = ctypes.CDLL(\"libfun.so\")\n",
    "fun.GuidedBilateralFilter.argtypes = [ctypes.c_int,ctypes.c_int,ctypes.c_int,POINTER(c_ubyte),POINTER(c_ubyte),ctypes.c_int,ctypes.c_float,ctypes.c_float,ctypes.c_float,ctypes.c_float,ctypes.c_float,POINTER(c_ubyte)]\n",
    "\n"
   ]
  },
  {
   "cell_type": "code",
   "execution_count": null,
   "id": "c3a98f0d",
   "metadata": {},
   "outputs": [],
   "source": []
  }
 ],
 "metadata": {
  "kernelspec": {
   "display_name": "Python 3",
   "language": "python",
   "name": "python3"
  },
  "language_info": {
   "codemirror_mode": {
    "name": "ipython",
    "version": 3
   },
   "file_extension": ".py",
   "mimetype": "text/x-python",
   "name": "python",
   "nbconvert_exporter": "python",
   "pygments_lexer": "ipython3",
   "version": "3.6.9"
  }
 },
 "nbformat": 4,
 "nbformat_minor": 5
}
